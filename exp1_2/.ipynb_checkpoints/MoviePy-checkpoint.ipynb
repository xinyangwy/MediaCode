{
 "cells": [
  {
   "cell_type": "code",
   "execution_count": 235,
   "metadata": {},
   "outputs": [],
   "source": [
    "# Import everything needed to edit video clips\n",
    "from moviepy.editor import *"
   ]
  },
  {
   "cell_type": "code",
   "execution_count": 236,
   "metadata": {},
   "outputs": [],
   "source": [
    "video = VideoFileClip(\"test.mp4\").subclip(0,6)"
   ]
  },
  {
   "cell_type": "code",
   "execution_count": 237,
   "metadata": {},
   "outputs": [],
   "source": [
    "# 添加字幕\n",
    "string=[\"字幕：合肥工业大学\",\"计算机与信息学院\",\"智能科学与技术\"]\n",
    "#起始时间\n",
    "time=[0.5, 1.7, 3]\n",
    "# 持续时间\n",
    "dur=[1,1,1]\n",
    "for a in range(3):\n",
    "    txt_clip = TextClip(string[a],font='msyhbd.ttc',fontsize=70,color='white').set_pos('bottom').set_duration(dur[a]).set_start(time[a])\n",
    "    video = CompositeVideoClip([clip, txt_clip])\n"
   ]
  },
  {
   "cell_type": "code",
   "execution_count": 238,
   "metadata": {},
   "outputs": [],
   "source": [
    "# 添加配音\n",
    "# video_audio_clip = clip.audio.volumex(0.4)\n",
    "peiyin=AudioFileClip(\"peiyin.aac\")"
   ]
  },
  {
   "cell_type": "code",
   "execution_count": 239,
   "metadata": {},
   "outputs": [],
   "source": [
    "\n",
    "#背景音乐   \n",
    "audio_clip = AudioFileClip(r'D:/Code/Pythoncode/Media/exp1_2/bgm.mp3').subclip(0,6).volumex(0.8)\n",
    "#设置背景音乐循环，时间与视频时间一致\n",
    "audio = afx.audio_loop(audio_clip, duration=clip.duration)\n",
    "#配音和背景音乐，音频叠加\n",
    "audio_clip_add = CompositeAudioClip([peiyin,audio])\n",
    "#视频写入背景音\n",
    "# video = CompositeVideoClip([clip, txt_clip, txt_clip2]).set_audio(audio_clip_add)\n",
    "video = video.set_audio(audio_clip_add)"
   ]
  },
  {
   "cell_type": "code",
   "execution_count": 240,
   "metadata": {},
   "outputs": [],
   "source": [
    "import moviepy.editor as mp\n",
    "# 图片水印\n",
    "logo = (mp.ImageClip(\"sy2.png\")\n",
    "        # 水印持续时间\n",
    "        .set_duration(video.duration)\n",
    "        # 水印高度，等比缩放\n",
    "        .set_position(lambda t: (150*t, 50*t))  # 随着时间移动\n",
    "        .resize(height=200)\n",
    "        # 水印的位置\n",
    "        .set_pos(('left', 'top')))\n",
    "\n",
    "# 制作文字，指定文字大小和颜色\n",
    "txt_clip = (TextClip(\"学号：2019212300\",font = 'msyhbd.ttc')\n",
    "            .set_position(lambda t: (150*t, 50*t))  # 随着时间移动\n",
    "            .resize(height=100)\n",
    "            .set_duration(video.duration))  # 水印持续时间\n",
    "\n",
    "output = mp.CompositeVideoClip([video, logo, txt_clip])\n",
    "# # 加上aac才有声音"
   ]
  },
  {
   "cell_type": "code",
   "execution_count": 241,
   "metadata": {},
   "outputs": [
    {
     "name": "stdout",
     "output_type": "stream",
     "text": [
      "Moviepy - Building video output.mp4.\n",
      "MoviePy - Writing audio in outputTEMP_MPY_wvf_snd.mp4\n"
     ]
    },
    {
     "name": "stderr",
     "output_type": "stream",
     "text": [
      "                                                                                                                                                                                       \r"
     ]
    },
    {
     "name": "stdout",
     "output_type": "stream",
     "text": [
      "MoviePy - Done.\n",
      "Moviepy - Writing video output.mp4\n",
      "\n"
     ]
    },
    {
     "name": "stderr",
     "output_type": "stream",
     "text": [
      "                                                                                                                                                                                       \r"
     ]
    },
    {
     "name": "stdout",
     "output_type": "stream",
     "text": [
      "Moviepy - Done !\n",
      "Moviepy - video ready output.mp4\n"
     ]
    }
   ],
   "source": [
    "output.write_videofile(\"output.mp4\", audio_codec=\"aac\", codec=\"libx264\")"
   ]
  },
  {
   "cell_type": "code",
   "execution_count": null,
   "metadata": {},
   "outputs": [],
   "source": []
  },
  {
   "cell_type": "code",
   "execution_count": null,
   "metadata": {},
   "outputs": [],
   "source": []
  }
 ],
 "metadata": {
  "kernelspec": {
   "display_name": "Python 3 (ipykernel)",
   "language": "python",
   "name": "python3"
  },
  "language_info": {
   "codemirror_mode": {
    "name": "ipython",
    "version": 3
   },
   "file_extension": ".py",
   "mimetype": "text/x-python",
   "name": "python",
   "nbconvert_exporter": "python",
   "pygments_lexer": "ipython3",
   "version": "3.8.5"
  },
  "toc": {
   "base_numbering": 1,
   "nav_menu": {},
   "number_sections": true,
   "sideBar": true,
   "skip_h1_title": false,
   "title_cell": "Table of Contents",
   "title_sidebar": "Contents",
   "toc_cell": false,
   "toc_position": {},
   "toc_section_display": true,
   "toc_window_display": false
  }
 },
 "nbformat": 4,
 "nbformat_minor": 1
}
